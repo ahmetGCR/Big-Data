{
 "cells": [
  {
   "cell_type": "markdown",
   "metadata": {},
   "source": [
    "<font color=red>Veri Kümesi Hakkında"
   ]
  },
  {
   "cell_type": "markdown",
   "metadata": {},
   "source": [
    "<font color = green>Bu veri seti, Hindistan'daki kredi başvuru sahiplerinin, kredi onayına uygunluklarını değerlendirmek için gerekli olan çeşitli özelliklerine ilişkin bilgiler sağlar.\n",
    "\n",
    "Her sütunun kısa bir açıklamasını burada bulabilirsiniz:\n",
    "\n",
    "Applicant_ID: Her kredi başvurusu sahibi için benzersiz tanımlayıcı.\n",
    "\n",
    "Annual_Income: Kredi başvurusunda bulunan kişinin yıllık geliridir.\n",
    "\n",
    "Applicant_Age: Kredi başvurusunda bulunan kişinin yaşı.\n",
    "\n",
    "Work_Experience: Kredi başvurusunda bulunan kişinin iş deneyimi yılı sayısı.\n",
    "\n",
    "Marital_Status: Kredi başvurusunda bulunan kişinin medeni durumu.\n",
    "\n",
    "House_Ownership: Başvuru sahibinin ikametgahının mülkiyet durumu.\n",
    "\n",
    "Vehicle_Ownership(car): Başvuru sahibinin aracının mülkiyet durumu.\n",
    "\n",
    "Occupation: Kredi başvurusunda bulunan kişinin mesleği veya mesleği.\n",
    "\n",
    "Residence_City: Kredi başvurusu sahibinin ikamet ettiği şehir.\n",
    "\n",
    "Residence_State: Kredi başvurusunda bulunan kişinin ikamet ettiği eyalet.\n",
    "\n",
    "Years_in_Current_Employment: Başvuru sahibinin mevcut işinde çalıştığı yıl sayısı.\n",
    "\n",
    "Years_in_Current_Residence: Başvuru sahibinin mevcut ikametgahında ikamet ettiği yıl sayısı.\n",
    "\n",
    "Loan_Default_Risk: Kredi başvurusunda bulunan kişinin krediyi temerrüde düşürme riskiyle karşı karşıya olup olmadığını gösteren değerlerle birlikte kredi temerrüt riski göstergesi."
   ]
  },
  {
   "cell_type": "code",
   "execution_count": 1,
   "metadata": {},
   "outputs": [],
   "source": [
    "import pyspark\n",
    "import pandas as pd\n",
    "\n",
    "import os\n",
    "import sys\n",
    "from pyspark.sql import SparkSession\n",
    "\n",
    "os.environ['PYSPARK_PYTHON'] = sys.executable\n",
    "os.environ['PYSPARK_DRIVER_PYTHON'] = sys.executable"
   ]
  },
  {
   "cell_type": "code",
   "execution_count": 2,
   "metadata": {},
   "outputs": [
    {
     "data": {
      "text/html": [
       "\n",
       "            <div>\n",
       "                <p><b>SparkSession - in-memory</b></p>\n",
       "                \n",
       "        <div>\n",
       "            <p><b>SparkContext</b></p>\n",
       "\n",
       "            <p><a href=\"http://DESKTOP-8UCN0QB:4041\">Spark UI</a></p>\n",
       "\n",
       "            <dl>\n",
       "              <dt>Version</dt>\n",
       "                <dd><code>v3.5.0</code></dd>\n",
       "              <dt>Master</dt>\n",
       "                <dd><code>local[*]</code></dd>\n",
       "              <dt>AppName</dt>\n",
       "                <dd><code>pyspark-shell</code></dd>\n",
       "            </dl>\n",
       "        </div>\n",
       "        \n",
       "            </div>\n",
       "        "
      ],
      "text/plain": [
       "<pyspark.sql.session.SparkSession at 0x223f1b286a0>"
      ]
     },
     "execution_count": 2,
     "metadata": {},
     "output_type": "execute_result"
    }
   ],
   "source": [
    "import os\n",
    "import sys\n",
    "from pyspark.sql import SparkSession\n",
    "\n",
    "spark = SparkSession.builder.getOrCreate()\n",
    "spark"
   ]
  },
  {
   "cell_type": "code",
   "execution_count": 3,
   "metadata": {},
   "outputs": [
    {
     "name": "stdout",
     "output_type": "stream",
     "text": [
      "+------------+-------------+-------------+---------------+--------------+---------------+----------------------+--------------------+--------------+---------------+---------------------------+--------------------------+-----------------+\n",
      "|Applicant_ID|Annual_Income|Applicant_Age|Work_Experience|Marital_Status|House_Ownership|Vehicle_Ownership(car)|          Occupation|Residence_City|Residence_State|Years_in_Current_Employment|Years_in_Current_Residence|Loan_Default_Risk|\n",
      "+------------+-------------+-------------+---------------+--------------+---------------+----------------------+--------------------+--------------+---------------+---------------------------+--------------------------+-----------------+\n",
      "|       75722|      9657655|           76|              0|        single|         rented|                    no|        Psychologist|     Jalandhar|         Punjab|                          0|                        12|                0|\n",
      "|       80185|      9259353|           37|             18|        single|         rented|                    no|  Petroleum_Engineer|         Bally|    West_Bengal|                         12|                        11|                0|\n",
      "|       19865|      1509721|           66|              8|        single|         rented|                    no|             Drafter|        Indore| Madhya_Pradesh|                          4|                        12|                0|\n",
      "|       76700|      5867312|           43|              1|        single|          owned|                    no|Chartered_Accountant|   Kurnool[18]| Andhra_Pradesh|                          1|                        13|                1|\n",
      "|       92992|      7223191|           44|              9|        single|         rented|                    no|Air_traffic_contr...|       Asansol|    West_Bengal|                          9|                        13|                0|\n",
      "+------------+-------------+-------------+---------------+--------------+---------------+----------------------+--------------------+--------------+---------------+---------------------------+--------------------------+-----------------+\n",
      "only showing top 5 rows\n",
      "\n"
     ]
    }
   ],
   "source": [
    "path = 'Applicant-details.csv'\n",
    "\n",
    "df= spark.read.csv(path,header=True,inferSchema=True,sep=\",\")\n",
    "df.show(5)"
   ]
  },
  {
   "cell_type": "code",
   "execution_count": 4,
   "metadata": {},
   "outputs": [
    {
     "data": {
      "text/plain": [
       "(100000, 13)"
      ]
     },
     "execution_count": 4,
     "metadata": {},
     "output_type": "execute_result"
    }
   ],
   "source": [
    "df.count(), len(df.columns)"
   ]
  },
  {
   "cell_type": "code",
   "execution_count": 5,
   "metadata": {},
   "outputs": [
    {
     "name": "stdout",
     "output_type": "stream",
     "text": [
      "root\n",
      " |-- Applicant_ID: integer (nullable = true)\n",
      " |-- Annual_Income: integer (nullable = true)\n",
      " |-- Applicant_Age: integer (nullable = true)\n",
      " |-- Work_Experience: integer (nullable = true)\n",
      " |-- Marital_Status: string (nullable = true)\n",
      " |-- House_Ownership: string (nullable = true)\n",
      " |-- Vehicle_Ownership(car): string (nullable = true)\n",
      " |-- Occupation: string (nullable = true)\n",
      " |-- Residence_City: string (nullable = true)\n",
      " |-- Residence_State: string (nullable = true)\n",
      " |-- Years_in_Current_Employment: integer (nullable = true)\n",
      " |-- Years_in_Current_Residence: integer (nullable = true)\n",
      " |-- Loan_Default_Risk: integer (nullable = true)\n",
      "\n"
     ]
    }
   ],
   "source": [
    "df.printSchema()"
   ]
  },
  {
   "cell_type": "code",
   "execution_count": 6,
   "metadata": {},
   "outputs": [
    {
     "name": "stdout",
     "output_type": "stream",
     "text": [
      "Applicant_ID\n",
      "Annual_Income\n",
      "Applicant_Age\n",
      "Work_Experience\n",
      "Marital_Status\n",
      "House_Ownership\n",
      "Vehicle_Ownership(car)\n",
      "Occupation\n",
      "Residence_City\n",
      "Residence_State\n",
      "Years_in_Current_Employment\n",
      "Years_in_Current_Residence\n",
      "Loan_Default_Risk\n"
     ]
    }
   ],
   "source": [
    "# sutun isimleri\n",
    "for col in df.columns:\n",
    "    print(col)"
   ]
  },
  {
   "cell_type": "code",
   "execution_count": 7,
   "metadata": {},
   "outputs": [
    {
     "name": "stdout",
     "output_type": "stream",
     "text": [
      "+------------+-------------+-------------+---------------+--------------+---------------+----------------------+----------+--------------+---------------+---------------------------+--------------------------+-----------------+\n",
      "|Applicant_ID|Annual_Income|Applicant_Age|Work_Experience|Marital_Status|House_Ownership|Vehicle_Ownership(car)|Occupation|Residence_City|Residence_State|Years_in_Current_Employment|Years_in_Current_Residence|Loan_Default_Risk|\n",
      "+------------+-------------+-------------+---------------+--------------+---------------+----------------------+----------+--------------+---------------+---------------------------+--------------------------+-----------------+\n",
      "|           0|            0|            0|              0|             0|              0|                     0|         0|             0|              0|                          0|                         0|                0|\n",
      "+------------+-------------+-------------+---------------+--------------+---------------+----------------------+----------+--------------+---------------+---------------------------+--------------------------+-----------------+\n",
      "\n"
     ]
    }
   ],
   "source": [
    "# eksik değerler kontrolü\n",
    "\n",
    "from pyspark.sql import functions as F\n",
    "\n",
    "# df içindeki eksik değerleri kontrol et\n",
    "df.select([F.count(F.when(F.col(c).isNull(), c)).alias(c) for c in df.columns]).show(5)"
   ]
  },
  {
   "cell_type": "code",
   "execution_count": 8,
   "metadata": {},
   "outputs": [
    {
     "name": "stdout",
     "output_type": "stream",
     "text": [
      "IntegerType():\n",
      "Applicant_ID, Annual_Income, Applicant_Age, Work_Experience, Years_in_Current_Employment, Years_in_Current_Residence, Loan_Default_Risk\n",
      "\n",
      "StringType():\n",
      "Marital_Status, House_Ownership, Vehicle_Ownership(car), Occupation, Residence_City, Residence_State\n",
      "\n"
     ]
    }
   ],
   "source": [
    "# veri tiplerini kontrol et\n",
    "# DataFrame şemasını al\n",
    "schema = df.schema\n",
    "\n",
    "# Sütunları veri tipine göre gruplandır\n",
    "group_columns = {}\n",
    "for field in schema.fields:\n",
    "    data_type = str(field.dataType)\n",
    "    column_name = field.name\n",
    "    group_columns.setdefault(data_type, []).append(column_name)\n",
    "\n",
    "# Gruplandırılmış sütunları yazdır\n",
    "for data_type, columns in group_columns.items():\n",
    "    column_list = \", \".join(columns)\n",
    "    print(f\"{data_type}:\\n{column_list}\\n\")"
   ]
  },
  {
   "cell_type": "code",
   "execution_count": 9,
   "metadata": {},
   "outputs": [
    {
     "name": "stdout",
     "output_type": "stream",
     "text": [
      "Marital_Status Benzersiz Değerler:\n",
      "married\n",
      "single\n",
      "\n",
      "\n",
      "House_Ownership Benzersiz Değerler:\n",
      "norent_noown\n",
      "rented\n",
      "owned\n",
      "\n",
      "\n",
      "Vehicle_Ownership(car) Benzersiz Değerler:\n",
      "no\n",
      "yes\n",
      "\n",
      "\n",
      "Occupation Benzersiz Değerler:\n",
      "Physician\n",
      "Scientist\n",
      "Petroleum_Engineer\n",
      "Technical_writer\n",
      "Police_officer\n",
      "Fashion_Designer\n",
      "Army_officer\n",
      "Chemical_engineer\n",
      "Chartered_Accountant\n",
      "Lawyer\n",
      "Air_traffic_controller\n",
      "Chef\n",
      "Flight_attendant\n",
      "Technology_specialist\n",
      "Designer\n",
      "Consultant\n",
      "Drafter\n",
      "Statistician\n",
      "Computer_hardware_engineer\n",
      "Magistrate\n",
      "Graphic_Designer\n",
      "Secretary\n",
      "Architect\n",
      "Librarian\n",
      "Design_Engineer\n",
      "Analyst\n",
      "Technician\n",
      "Software_Developer\n",
      "Surgeon\n",
      "Official\n",
      "Hotel_Manager\n",
      "Artist\n",
      "Web_designer\n",
      "Microbiologist\n",
      "Firefighter\n",
      "Computer_operator\n",
      "Industrial_Engineer\n",
      "Biomedical_Engineer\n",
      "Engineer\n",
      "Financial_Analyst\n",
      "Surveyor\n",
      "Comedian\n",
      "Mechanical_engineer\n",
      "Civil_engineer\n",
      "Politician\n",
      "Civil_servant\n",
      "Economist\n",
      "Aviator\n",
      "Psychologist\n",
      "Geologist\n",
      "Dentist\n",
      "\n",
      "\n",
      "Residence_City Benzersiz Değerler:\n",
      "Bangalore\n",
      "Vasai-Virar\n",
      "Aurangabad[39]\n",
      "Udaipur\n",
      "Raichur\n",
      "Khandwa\n",
      "Bhind\n",
      "Anantapuram[24]\n",
      "Kochi\n",
      "Singrauli\n",
      "Faridabad\n",
      "Tinsukia\n",
      "Aurangabad\n",
      "Kavali\n",
      "Hosur\n",
      "Bhubaneswar\n",
      "Uluberia\n",
      "Ozhukarai\n",
      "Pimpri-Chinchwad\n",
      "Rampur\n",
      "Kota[6]\n",
      "Bidhannagar\n",
      "Ajmer\n",
      "Loni\n",
      "Nagaon\n",
      "Jalgaon\n",
      "Akola\n",
      "Amravati\n",
      "Agartala\n",
      "Solapur\n",
      "Gulbarga\n",
      "Kamarhati\n",
      "Darbhanga\n",
      "Durg\n",
      "Korba\n",
      "Satara\n",
      "Patna\n",
      "Jodhpur\n",
      "Chinsurah\n",
      "Davanagere\n",
      "Tiruvottiyur\n",
      "Jammu[16]\n",
      "Tezpur\n",
      "Ichalkaranji\n",
      "Vadodara\n",
      "Haldia\n",
      "Chittoor[28]\n",
      "Jhansi\n",
      "Sirsa\n",
      "Hindupur\n",
      "Gangtok\n",
      "Sikar\n",
      "Kottayam\n",
      "Bhagalpur\n",
      "Hajipur[31]\n",
      "Bhavnagar\n",
      "Raurkela_Industrial_Township\n",
      "Howrah\n",
      "Chennai\n",
      "Lucknow\n",
      "Adoni\n",
      "Tumkur\n",
      "Rewa\n",
      "Shimla\n",
      "Gopalpur\n",
      "Madanapalle\n",
      "Siwan[32]\n",
      "Bellary\n",
      "Proddatur\n",
      "Dibrugarh\n",
      "Navi_Mumbai\n",
      "Jalandhar\n",
      "Berhampore\n",
      "Unnao\n",
      "Farrukhabad\n",
      "Varanasi\n",
      "Thane\n",
      "Muzaffarpur\n",
      "Kollam\n",
      "Jamshedpur\n",
      "Dharmavaram\n",
      "Ranchi\n",
      "Mangalore\n",
      "Phagwara\n",
      "Ulhasnagar\n",
      "Tenali\n",
      "Kolhapur\n",
      "Hazaribagh\n",
      "Machilipatnam\n",
      "Warangal[11][12]\n",
      "Mumbai\n",
      "Nandyal\n",
      "Panchkula\n",
      "Nadiad\n",
      "Hospet\n",
      "Bhatpara\n",
      "Saharsa[29]\n",
      "Kozhikode\n",
      "Mau\n",
      "Tiruppur\n",
      "Bardhaman\n",
      "Etawah\n",
      "Nagercoil\n",
      "Kurnool[18]\n",
      "Aizawl\n",
      "Tiruchirappalli[10]\n",
      "Aligarh\n",
      "Sambalpur\n",
      "New_Delhi\n",
      "Motihari[34]\n",
      "Serampore\n",
      "Nizamabad\n",
      "Ahmedabad\n",
      "Parbhani\n",
      "Bhalswa_Jahangir_Pur\n",
      "Bidar\n",
      "Visakhapatnam[4]\n",
      "Ambarnath\n",
      "Firozabad\n",
      "Shahjahanpur\n",
      "Mahbubnagar\n",
      "Kolkata\n",
      "Rourkela\n",
      "Dhanbad\n",
      "Amaravati\n",
      "Burhanpur\n",
      "Belgaum\n",
      "Vijayanagaram\n",
      "Jabalpur\n",
      "Jorhat\n",
      "Panihati\n",
      "Danapur\n",
      "Noida\n",
      "Allahabad\n",
      "Bijapur\n",
      "Phusro\n",
      "Jalna\n",
      "Karawal_Nagar\n",
      "Ludhiana\n",
      "Sangli-Miraj_&_Kupwad\n",
      "Nellore[14][15]\n",
      "Rohtak\n",
      "Thrissur\n",
      "Gorakhpur\n",
      "Bhiwani\n",
      "Srikakulam\n",
      "Amritsar\n",
      "Madhyamgram\n",
      "Anand\n",
      "Morena\n",
      "Guntur[13]\n",
      "Miryalaguda\n",
      "Gwalior\n",
      "Raebareli\n",
      "Giridih\n",
      "Mysore[7][8][9]\n",
      "Bhilai\n",
      "Ratlam\n",
      "North_Dumdum\n",
      "Katihar\n",
      "Kumbakonam\n",
      "Raiganj\n",
      "Mirzapur\n",
      "Bhiwandi\n",
      "Bally\n",
      "Muzaffarnagar\n",
      "Munger\n",
      "Pudukkottai\n",
      "Bhimavaram\n",
      "Pallavaram\n",
      "Anantapur\n",
      "Ujjain\n",
      "Ahmednagar\n",
      "Yamunanagar\n",
      "Chandrapur\n",
      "Haridwar\n",
      "Gandhidham\n",
      "Khora,_Ghaziabad\n",
      "Thanjavur\n",
      "Guna\n",
      "Salem\n",
      "Kadapa[23]\n",
      "Bettiah[33]\n",
      "Meerut\n",
      "Guntakal\n",
      "Ambala\n",
      "Medininagar\n",
      "Dindigul\n",
      "Dehradun\n",
      "Tadipatri\n",
      "Gandhinagar\n",
      "Karaikudi\n",
      "Vellore\n",
      "Surat\n",
      "Gurgaon\n",
      "Purnia[26]\n",
      "Surendranagar_Dudhrej\n",
      "Silchar\n",
      "Chapra\n",
      "Dewas\n",
      "Barasat\n",
      "Agra\n",
      "Patiala\n",
      "Eluru[25]\n",
      "Imphal\n",
      "Shivpuri\n",
      "South_Dumdum\n",
      "Hubliâ€“Dharwad\n",
      "Tirupati[21][22]\n",
      "Madurai\n",
      "Katni\n",
      "Secunderabad\n",
      "Udupi\n",
      "Erode[17]\n",
      "Mango\n",
      "Avadi\n",
      "Pune\n",
      "Nanded\n",
      "Durgapur\n",
      "Mehsana\n",
      "Narasaraopet\n",
      "Nangloi_Jat\n",
      "Arrah\n",
      "Kulti\n",
      "Malegaon\n",
      "Raipur\n",
      "Rajpur_Sonarpur\n",
      "Orai\n",
      "Panvel\n",
      "Malda\n",
      "Bongaigaon\n",
      "Bokaro\n",
      "Asansol\n",
      "Bilaspur\n",
      "Pondicherry\n",
      "Nagpur\n",
      "Sambhal\n",
      "Bareilly\n",
      "Coimbatore\n",
      "Bhopal\n",
      "Ghaziabad\n",
      "Saharanpur\n",
      "Panipat\n",
      "Karnal\n",
      "Ambattur\n",
      "Jamnagar\n",
      "Bulandshahr\n",
      "Kirari_Suleman_Nagar\n",
      "Thiruvananthapuram\n",
      "Kishanganj[35]\n",
      "Ramgarh\n",
      "Khammam\n",
      "Kakinada\n",
      "Gaya\n",
      "Dhule\n",
      "Ballia\n",
      "Kanpur\n",
      "Suryapet\n",
      "Bikaner\n",
      "Ongole\n",
      "Siliguri\n",
      "Jaunpur\n",
      "Sagar\n",
      "Bhilwara\n",
      "Buxar[37]\n",
      "Latur\n",
      "Hyderabad\n",
      "Bathinda\n",
      "Sultan_Pur_Majra\n",
      "Sonipat\n",
      "Hapur\n",
      "Rajkot\n",
      "Nashik\n",
      "Bhusawal\n",
      "Dehri[30]\n",
      "Deoghar\n",
      "Baranagar\n",
      "Bharatpur\n",
      "Vijayawada\n",
      "Indore\n",
      "Satna\n",
      "Srinagar\n",
      "Fatehpur\n",
      "Alwar\n",
      "Chandigarh_city\n",
      "Guwahati\n",
      "Jehanabad[38]\n",
      "Mathura\n",
      "Berhampur\n",
      "Alappuzha\n",
      "Kharagpur\n",
      "Shimoga\n",
      "Sasaram[30]\n",
      "Cuttack\n",
      "Pali\n",
      "Jamalpur[36]\n",
      "Ramagundam[27]\n",
      "Gudivada\n",
      "Amroha\n",
      "Jaipur\n",
      "Bahraich\n",
      "Tirunelveli\n",
      "Kalyan-Dombivli\n",
      "Delhi_city\n",
      "Thoothukudi\n",
      "Maheshtala\n",
      "Sri_Ganganagar\n",
      "Morbi\n",
      "Junagadh\n",
      "Karimnagar\n",
      "Tadepalligudem\n",
      "Naihati\n",
      "Mira-Bhayandar\n",
      "Moradabad\n",
      "Rajahmundry[19][20]\n",
      "Begusarai\n",
      "Bihar_Sharif\n",
      "\n",
      "\n",
      "Residence_State Benzersiz Değerler:\n",
      "Karnataka\n",
      "Odisha\n",
      "Kerala\n",
      "Chhattisgarh\n",
      "Punjab\n",
      "Manipur\n",
      "Uttar_Pradesh[5]\n",
      "Mizoram\n",
      "Andhra_Pradesh\n",
      "Puducherry\n",
      "Haryana\n",
      "Madhya_Pradesh\n",
      "Jharkhand\n",
      "Gujarat\n",
      "West_Bengal\n",
      "Tamil_Nadu\n",
      "Uttar_Pradesh\n",
      "Sikkim\n",
      "Delhi\n",
      "Chandigarh\n",
      "Rajasthan\n",
      "Assam\n",
      "Himachal_Pradesh\n",
      "Jammu_and_Kashmir\n",
      "Maharashtra\n",
      "Telangana\n",
      "Bihar\n",
      "Tripura\n",
      "Uttarakhand\n",
      "\n",
      "\n"
     ]
    }
   ],
   "source": [
    "# Belirtilen sütunlardaki benzersiz değerlerin alınması\n",
    "unique_values = {}\n",
    "columnss= [\"Marital_Status\", \"House_Ownership\", \"Vehicle_Ownership(car)\", \"Occupation\", \"Residence_City\", \"Residence_State\"]\n",
    "\n",
    "for col in columnss:\n",
    "    unique_values[col] = df.select(col).distinct().collect()\n",
    "\n",
    "# Benzersiz değerlerin yazdırılması\n",
    "for col, values in unique_values.items():\n",
    "    print(f\"{col} Benzersiz Değerler:\")\n",
    "    for row in values:\n",
    "        print(row[col])\n",
    "    print(\"\\n\")\n"
   ]
  },
  {
   "cell_type": "code",
   "execution_count": 10,
   "metadata": {},
   "outputs": [
    {
     "name": "stdout",
     "output_type": "stream",
     "text": [
      "Marital_Status Benzersiz Değer Sayısı: 2\n",
      "House_Ownership Benzersiz Değer Sayısı: 3\n",
      "Vehicle_Ownership(car) Benzersiz Değer Sayısı: 2\n",
      "Occupation Benzersiz Değer Sayısı: 51\n",
      "Residence_City Benzersiz Değer Sayısı: 317\n",
      "Residence_State Benzersiz Değer Sayısı: 29\n"
     ]
    }
   ],
   "source": [
    "# Belirtilen sütunlardaki benzersiz değerlerin sayısının alınması\n",
    "\n",
    "unique_value_counts = {}\n",
    "columnss = [\"Marital_Status\", \"House_Ownership\", \"Vehicle_Ownership(car)\", \"Occupation\", \"Residence_City\", \"Residence_State\"]\n",
    "\n",
    "for column in columnss:\n",
    "    unique_value_counts[column] = df.select(column).distinct().count()\n",
    "\n",
    "for column, count in unique_value_counts.items():\n",
    "    print(f\"{column} Benzersiz Değer Sayısı: {count}\")"
   ]
  },
  {
   "cell_type": "code",
   "execution_count": 11,
   "metadata": {},
   "outputs": [],
   "source": [
    "# Applicant_ID: sil\n",
    "# Residence_City: ikamet edilen şehir, sil\n",
    "# Marital_Status: medeni durum, encod\n",
    "# House_Ownership: evin mülkiyet durumu, encod\n",
    "# Vehicle_Ownership(car): aracın mülkiyet durumu, encod\n",
    "# Occupation: meslekler,grupla, encod\n",
    "# Residence_State: ikamet edilen eyalet,grupla, encod\n"
   ]
  },
  {
   "cell_type": "code",
   "execution_count": 12,
   "metadata": {},
   "outputs": [
    {
     "name": "stdout",
     "output_type": "stream",
     "text": [
      "+-------------+-------------+---------------+--------------+---------------+----------------------+------------------+---------------+---------------------------+--------------------------+-----------------+\n",
      "|Annual_Income|Applicant_Age|Work_Experience|Marital_Status|House_Ownership|Vehicle_Ownership(car)|        Occupation|Residence_State|Years_in_Current_Employment|Years_in_Current_Residence|Loan_Default_Risk|\n",
      "+-------------+-------------+---------------+--------------+---------------+----------------------+------------------+---------------+---------------------------+--------------------------+-----------------+\n",
      "|      9657655|           76|              0|        single|         rented|                    no|      Psychologist|         Punjab|                          0|                        12|                0|\n",
      "|      9259353|           37|             18|        single|         rented|                    no|Petroleum_Engineer|    West_Bengal|                         12|                        11|                0|\n",
      "|      1509721|           66|              8|        single|         rented|                    no|           Drafter| Madhya_Pradesh|                          4|                        12|                0|\n",
      "+-------------+-------------+---------------+--------------+---------------+----------------------+------------------+---------------+---------------------------+--------------------------+-----------------+\n",
      "only showing top 3 rows\n",
      "\n"
     ]
    }
   ],
   "source": [
    "df = df.drop(\"Applicant_ID\",\"Residence_City\")\n",
    "df.show(3)"
   ]
  },
  {
   "cell_type": "code",
   "execution_count": 13,
   "metadata": {},
   "outputs": [
    {
     "name": "stdout",
     "output_type": "stream",
     "text": [
      "+-------------+-------------+---------------+--------------+---------------+----------------------+---------------+---------------------------+--------------------------+-----------------+-------------------+\n",
      "|Annual_Income|Applicant_Age|Work_Experience|Marital_Status|House_Ownership|Vehicle_Ownership(car)|Residence_State|Years_in_Current_Employment|Years_in_Current_Residence|Loan_Default_Risk|Occupation_Category|\n",
      "+-------------+-------------+---------------+--------------+---------------+----------------------+---------------+---------------------------+--------------------------+-----------------+-------------------+\n",
      "|      9657655|           76|              0|        single|         rented|                    no|         Punjab|                          0|                        12|                0|              Other|\n",
      "|      9259353|           37|             18|        single|         rented|                    no|    West_Bengal|                         12|                        11|                0|        Engineering|\n",
      "|      1509721|           66|              8|        single|         rented|                    no| Madhya_Pradesh|                          4|                        12|                0|              Other|\n",
      "|      5867312|           43|              1|        single|          owned|                    no| Andhra_Pradesh|                          1|                        13|                1|              Other|\n",
      "|      7223191|           44|              9|        single|         rented|                    no|    West_Bengal|                          9|                        13|                0|              Other|\n",
      "+-------------+-------------+---------------+--------------+---------------+----------------------+---------------+---------------------------+--------------------------+-----------------+-------------------+\n",
      "only showing top 5 rows\n",
      "\n"
     ]
    }
   ],
   "source": [
    "from pyspark.sql import SparkSession\n",
    "from pyspark.sql.functions import col, when\n",
    "\n",
    "\n",
    "# Meslek kategorilerinin belirlenmesi\n",
    "occupation_categories = {\n",
    "    \"Medical\": [\"Physician\", \"Surgeon\", \"Dentist\", \"Nurse\", \"Paramedic\", \"Pharmacist\", \"Microbiologist\"],\n",
    "\n",
    "    \"Engineering\": [\"Petroleum_Engineer\", \"Chemical_engineer\", \"Computer_hardware_engineer\", \"Mechanical_engineer\", \"Civil_engineer\", \"Industrial_Engineer\", \"Biomedical_Engineer\", \"Electrical_engineer\"],\n",
    "\n",
    "    \"Legal\": [\"Lawyer\", \"Magistrate\", \"Judge\", \"Paralegal\"],\n",
    "\n",
    "    \n",
    "\n",
    "    \"Art\": [\"Fashion_Designer\", \"Graphic_Designer\", \"Artist\"],\n",
    "\n",
    "    \"Public_Service\": [\"Police_officer\", \"Army_officer\", \"Firefighter\"],\n",
    "    \n",
    "}\n",
    "\n",
    "# Koşullu bir sütun oluşturma\n",
    "category_column = when(col(\"Occupation\").isin(occupation_categories[\"Medical\"]), \"Medical\") \\\n",
    "    .when(col(\"Occupation\").isin(occupation_categories[\"Engineering\"]), \"Engineering\") \\\n",
    "    .when(col(\"Occupation\").isin(occupation_categories[\"Legal\"]), \"Legal\") \\\n",
    "    .when(col(\"Occupation\").isin(occupation_categories[\"Art\"]), \"Art\") \\\n",
    "    .when(col(\"Occupation\").isin(occupation_categories[\"Public_Service\"]), \"Public_Service\") \\\n",
    "    .otherwise(\"Other\")\n",
    "\n",
    "# Yeni sütunu DataFrame'e ekleme\n",
    "df = df.withColumn(\"Occupation_Category\", category_column)\n",
    "df = df = df.drop(\"Occupation\")\n",
    "\n",
    "# Sonucu gösterme\n",
    "df.show(5)\n"
   ]
  },
  {
   "cell_type": "code",
   "execution_count": 14,
   "metadata": {},
   "outputs": [
    {
     "name": "stdout",
     "output_type": "stream",
     "text": [
      "+-------------------+\n",
      "|Occupation_Category|\n",
      "+-------------------+\n",
      "|        Engineering|\n",
      "|                Art|\n",
      "|     Public_Service|\n",
      "|              Other|\n",
      "|              Legal|\n",
      "|            Medical|\n",
      "+-------------------+\n",
      "\n"
     ]
    }
   ],
   "source": [
    "df.select(\"Occupation_Category\").distinct().show(10)"
   ]
  },
  {
   "cell_type": "code",
   "execution_count": 15,
   "metadata": {},
   "outputs": [
    {
     "name": "stdout",
     "output_type": "stream",
     "text": [
      "+-------------+-------------+---------------+--------------+---------------+----------------------+---------------------------+--------------------------+-----------------+-------------------+---------------+\n",
      "|Annual_Income|Applicant_Age|Work_Experience|Marital_Status|House_Ownership|Vehicle_Ownership(car)|Years_in_Current_Employment|Years_in_Current_Residence|Loan_Default_Risk|Occupation_Category|         Region|\n",
      "+-------------+-------------+---------------+--------------+---------------+----------------------+---------------------------+--------------------------+-----------------+-------------------+---------------+\n",
      "|      9657655|           76|              0|        single|         rented|                    no|                          0|                        12|                0|              Other|Kuzey Hindistan|\n",
      "|      9259353|           37|             18|        single|         rented|                    no|                         12|                        11|                0|        Engineering|          Diğer|\n",
      "|      1509721|           66|              8|        single|         rented|                    no|                          4|                        12|                0|              Other|          Diğer|\n",
      "|      5867312|           43|              1|        single|          owned|                    no|                          1|                        13|                1|              Other|          Diğer|\n",
      "|      7223191|           44|              9|        single|         rented|                    no|                          9|                        13|                0|              Other|          Diğer|\n",
      "+-------------+-------------+---------------+--------------+---------------+----------------------+---------------------------+--------------------------+-----------------+-------------------+---------------+\n",
      "only showing top 5 rows\n",
      "\n"
     ]
    }
   ],
   "source": [
    "from pyspark.sql.functions import when\n",
    "\n",
    "# Eyaletleri coğrafi bölgelere göre gruplayacağım\n",
    "region_mapping = {\n",
    "    \"Kuzey Hindistan\": [\"Punjab\", \"Haryana\", \"Uttar Pradesh\", \"Delhi\", \"Jammu and Kashmir\", \"Himachal Pradesh\"],\n",
    "    \"Güney Hindistan\": [\"Kerala\", \"Tamil Nadu\", \"Karnataka\", \"Telangana\", \"Andhra Pradesh\"],\n",
    "    \"Doğu Hindistan\": [\"Bihar\", \"Jharkhand\", \"Odisha\", \"West Bengal\", \"Assam\", \"Tripura\", \"Sikkim\", \"Mizoram\", \"Manipur\", \"Nagaland\", \"Arunachal Pradesh\", \"Meghalaya\"],\n",
    "    \"Batı Hindistan\": [\"Gujarat\", \"Rajasthan\", \"Maharashtra\", \"Goa\"],\n",
    "    \"Orta Hindistan\": [\"Madhya Pradesh\", \"Chhattisgarh\", \"Uttarakhand\", \"Chandigarh\", \"Dadra and Nagar Haveli and Daman and Diu\"]\n",
    "}\n",
    "\n",
    "# Koşullu bir sütun oluşturma\n",
    "region_column = when(col(\"Residence_State\").isin(region_mapping[\"Kuzey Hindistan\"]), \"Kuzey Hindistan\") \\\n",
    "    .when(col(\"Residence_State\").isin(region_mapping[\"Güney Hindistan\"]), \"Güney Hindistan\") \\\n",
    "    .when(col(\"Residence_State\").isin(region_mapping[\"Doğu Hindistan\"]), \"Doğu Hindistan\") \\\n",
    "    .when(col(\"Residence_State\").isin(region_mapping[\"Batı Hindistan\"]), \"Batı Hindistan\") \\\n",
    "    .when(col(\"Residence_State\").isin(region_mapping[\"Orta Hindistan\"]), \"Orta Hindistan\") \\\n",
    "    .otherwise(\"Diğer\")\n",
    "\n",
    "# Yeni sütunu DataFrame'e ekleme\n",
    "df = df.withColumn(\"Region\", region_column)\n",
    "df = df = df.drop(\"Residence_State\")\n",
    "\n",
    "# Sonucu gösterme\n",
    "df.show(5)\n"
   ]
  },
  {
   "cell_type": "code",
   "execution_count": 16,
   "metadata": {},
   "outputs": [
    {
     "name": "stdout",
     "output_type": "stream",
     "text": [
      "+---------------+\n",
      "|         Region|\n",
      "+---------------+\n",
      "| Orta Hindistan|\n",
      "| Batı Hindistan|\n",
      "|Kuzey Hindistan|\n",
      "|          Diğer|\n",
      "|Güney Hindistan|\n",
      "| Doğu Hindistan|\n",
      "+---------------+\n",
      "\n"
     ]
    }
   ],
   "source": [
    "df.select(\"Region\").distinct().show(10)"
   ]
  },
  {
   "cell_type": "code",
   "execution_count": 17,
   "metadata": {},
   "outputs": [
    {
     "name": "stdout",
     "output_type": "stream",
     "text": [
      "IntegerType():\n",
      "Annual_Income, Applicant_Age, Work_Experience, Years_in_Current_Employment, Years_in_Current_Residence, Loan_Default_Risk\n",
      "\n",
      "StringType():\n",
      "Marital_Status, House_Ownership, Vehicle_Ownership(car), Occupation_Category, Region\n",
      "\n"
     ]
    }
   ],
   "source": [
    "# tekrardan kontrol ediyorum\n",
    "\n",
    "schema = df.schema\n",
    "# Sütunları veri tipine göre gruplandır\n",
    "grouped_columns = {}\n",
    "for field in schema.fields:\n",
    "    data_type = str(field.dataType)\n",
    "    column_name = field.name\n",
    "    grouped_columns.setdefault(data_type, []).append(column_name)\n",
    "\n",
    "# Gruplandırılmış sütunları yazdır\n",
    "for data_type, columns in grouped_columns.items():\n",
    "    column_list = \", \".join(columns)\n",
    "    print(f\"{data_type}:\\n{column_list}\\n\")"
   ]
  },
  {
   "cell_type": "code",
   "execution_count": 18,
   "metadata": {},
   "outputs": [
    {
     "name": "stdout",
     "output_type": "stream",
     "text": [
      "+-------------+-------------+---------------+---------------------------+--------------------------+-----------------+------------------+-------------------+--------------------------+-----------------------+-------------+\n",
      "|Annual_Income|Applicant_Age|Work_Experience|Years_in_Current_Employment|Years_in_Current_Residence|Loan_Default_Risk|Marital_Status_Vec|House_Ownership_Vec|Vehicle_Ownership(car)_Vec|Occupation_Category_Vec|   Region_Vec|\n",
      "+-------------+-------------+---------------+---------------------------+--------------------------+-----------------+------------------+-------------------+--------------------------+-----------------------+-------------+\n",
      "|      9657655|           76|              0|                          0|                        12|                0|     (1,[0],[1.0])|      (2,[0],[1.0])|             (1,[0],[1.0])|          (5,[0],[1.0])|(5,[4],[1.0])|\n",
      "|      9259353|           37|             18|                         12|                        11|                0|     (1,[0],[1.0])|      (2,[0],[1.0])|             (1,[0],[1.0])|          (5,[1],[1.0])|(5,[0],[1.0])|\n",
      "|      1509721|           66|              8|                          4|                        12|                0|     (1,[0],[1.0])|      (2,[0],[1.0])|             (1,[0],[1.0])|          (5,[0],[1.0])|(5,[0],[1.0])|\n",
      "|      5867312|           43|              1|                          1|                        13|                1|     (1,[0],[1.0])|      (2,[1],[1.0])|             (1,[0],[1.0])|          (5,[0],[1.0])|(5,[0],[1.0])|\n",
      "|      7223191|           44|              9|                          9|                        13|                0|     (1,[0],[1.0])|      (2,[0],[1.0])|             (1,[0],[1.0])|          (5,[0],[1.0])|(5,[0],[1.0])|\n",
      "+-------------+-------------+---------------+---------------------------+--------------------------+-----------------+------------------+-------------------+--------------------------+-----------------------+-------------+\n",
      "only showing top 5 rows\n",
      "\n"
     ]
    }
   ],
   "source": [
    "from pyspark.ml.feature import OneHotEncoder\n",
    "from pyspark.ml.feature import OneHotEncoder, StringIndexer\n",
    "from pyspark.ml import Pipeline\n",
    "\n",
    "# StringIndexer kullanarak kategorik sütunları indeksleyin\n",
    "cols = ['Marital_Status','House_Ownership','Vehicle_Ownership(car)','Occupation_Category','Region']\n",
    "\n",
    "stringIndexer = StringIndexer(inputCols=cols, outputCols=[col + '_Index' for col in cols])\n",
    "indexed_df = stringIndexer.fit(df).transform(df)\n",
    "\n",
    "# OneHotEncoder ile indekslenen sütunları dönüştürün\n",
    "encoder = OneHotEncoder(inputCols=[col + '_Index' for col in cols], \n",
    "                        outputCols=[col + '_Vec' for col in cols])\n",
    "encoded_df = encoder.fit(indexed_df).transform(indexed_df)\n",
    "\n",
    "# Orjinal kategorik sütunları veri çerçevesinden kaldırın\n",
    "encoded_cols = [col + '_Index' for col in cols] + cols\n",
    "df = encoded_df.drop(*encoded_cols)\n",
    "\n",
    "df.show(5)\n"
   ]
  },
  {
   "cell_type": "code",
   "execution_count": 19,
   "metadata": {},
   "outputs": [
    {
     "name": "stdout",
     "output_type": "stream",
     "text": [
      "+-------------+-------------+---------------+---------------------------+--------------------------+------------------+-------------------+--------------------------+-----------------------+-------------+-----------------+\n",
      "|Annual_Income|Applicant_Age|Work_Experience|Years_in_Current_Employment|Years_in_Current_Residence|Marital_Status_Vec|House_Ownership_Vec|Vehicle_Ownership(car)_Vec|Occupation_Category_Vec|   Region_Vec|Loan_Default_Risk|\n",
      "+-------------+-------------+---------------+---------------------------+--------------------------+------------------+-------------------+--------------------------+-----------------------+-------------+-----------------+\n",
      "|      9657655|           76|              0|                          0|                        12|     (1,[0],[1.0])|      (2,[0],[1.0])|             (1,[0],[1.0])|          (5,[0],[1.0])|(5,[4],[1.0])|                0|\n",
      "|      9259353|           37|             18|                         12|                        11|     (1,[0],[1.0])|      (2,[0],[1.0])|             (1,[0],[1.0])|          (5,[1],[1.0])|(5,[0],[1.0])|                0|\n",
      "+-------------+-------------+---------------+---------------------------+--------------------------+------------------+-------------------+--------------------------+-----------------------+-------------+-----------------+\n",
      "only showing top 2 rows\n",
      "\n"
     ]
    }
   ],
   "source": [
    "# target sütununu en sona taşıdım\n",
    "df = df.select([c for c in df.columns if c != 'Loan_Default_Risk'] + ['Loan_Default_Risk'])\n",
    "df.show(2)"
   ]
  },
  {
   "cell_type": "code",
   "execution_count": 20,
   "metadata": {},
   "outputs": [
    {
     "name": "stdout",
     "output_type": "stream",
     "text": [
      "IntegerType():\n",
      "Annual_Income, Applicant_Age, Work_Experience, Years_in_Current_Employment, Years_in_Current_Residence, Loan_Default_Risk\n",
      "\n",
      "VectorUDT():\n",
      "Marital_Status_Vec, House_Ownership_Vec, Vehicle_Ownership(car)_Vec, Occupation_Category_Vec, Region_Vec\n",
      "\n"
     ]
    }
   ],
   "source": [
    "# tekrardan kontrol ettim\n",
    "\n",
    "\n",
    "schema = df.schema\n",
    "# Sütunları veri tipine göre gruplandır\n",
    "grouped_columns = {}\n",
    "for field in schema.fields:\n",
    "    data_type = str(field.dataType)\n",
    "    column_name = field.name\n",
    "    grouped_columns.setdefault(data_type, []).append(column_name)\n",
    "\n",
    "# Gruplandırılmış sütunları yazdır\n",
    "for data_type, columns in grouped_columns.items():\n",
    "    column_list = \", \".join(columns)\n",
    "    print(f\"{data_type}:\\n{column_list}\\n\")"
   ]
  },
  {
   "cell_type": "code",
   "execution_count": 21,
   "metadata": {},
   "outputs": [
    {
     "data": {
      "text/plain": [
       "(100000, 11)"
      ]
     },
     "execution_count": 21,
     "metadata": {},
     "output_type": "execute_result"
    }
   ],
   "source": [
    "df.count(), len(df.columns)"
   ]
  },
  {
   "cell_type": "code",
   "execution_count": 22,
   "metadata": {},
   "outputs": [
    {
     "name": "stdout",
     "output_type": "stream",
     "text": [
      "+-----------------+-----+\n",
      "|Loan_Default_Risk|count|\n",
      "+-----------------+-----+\n",
      "|                1|12997|\n",
      "|                0|87003|\n",
      "+-----------------+-----+\n",
      "\n"
     ]
    }
   ],
   "source": [
    "# target sutununda dağılımlar dengeli mi kontrol et\n",
    "df.groupby('Loan_Default_Risk').count().show()"
   ]
  },
  {
   "cell_type": "code",
   "execution_count": 23,
   "metadata": {},
   "outputs": [
    {
     "name": "stdout",
     "output_type": "stream",
     "text": [
      "+-----------------+-----+----------+\n",
      "|Loan_Default_Risk|count|percentage|\n",
      "+-----------------+-----+----------+\n",
      "|                1|12997|    12.997|\n",
      "|                0|87003|    87.003|\n",
      "+-----------------+-----+----------+\n",
      "\n"
     ]
    }
   ],
   "source": [
    "# Her bir sınıfın sayısını hesapla\n",
    "counts = df.groupby('Loan_Default_Risk').count()\n",
    "\n",
    "# Toplam örnek sayısını bul\n",
    "total = counts.agg({\"count\": \"sum\"}).collect()[0][0]\n",
    "\n",
    "# Her bir sınıfın yüzdesini hesapla\n",
    "counts = counts.withColumn(\"percentage\", (counts[\"count\"] / total) * 100)\n",
    "\n",
    "# Sonuçları göster\n",
    "counts.show()\n"
   ]
  },
  {
   "cell_type": "code",
   "execution_count": 24,
   "metadata": {},
   "outputs": [
    {
     "name": "stdout",
     "output_type": "stream",
     "text": [
      "+--------------------+-----+\n",
      "|            features|label|\n",
      "+--------------------+-----+\n",
      "|(19,[0,1,4,5,6,8,...|    0|\n",
      "|(19,[0,1,2,3,4,5,...|    0|\n",
      "|(19,[0,1,2,3,4,5,...|    0|\n",
      "|(19,[0,1,2,3,4,5,...|    1|\n",
      "|(19,[0,1,2,3,4,5,...|    0|\n",
      "+--------------------+-----+\n",
      "only showing top 5 rows\n",
      "\n"
     ]
    }
   ],
   "source": [
    "# features kolonunu oluşturma\n",
    "\n",
    "from pyspark.ml.feature import VectorAssembler\n",
    "\n",
    "# 'Loan_Default_Risk' sütunu dışında tüm sütunları al\n",
    "x_columns = df.columns[:-1]\n",
    "assembler = VectorAssembler(inputCols=x_columns, outputCol='features')\n",
    "output = assembler.transform(df)\n",
    "\n",
    "df = output.select('features', output['Loan_Default_Risk'].alias('label'))\n",
    "df.show(5)"
   ]
  },
  {
   "cell_type": "code",
   "execution_count": 25,
   "metadata": {},
   "outputs": [
    {
     "name": "stdout",
     "output_type": "stream",
     "text": [
      "TRAIN\n",
      "+-----+-----+\n",
      "|label|count|\n",
      "+-----+-----+\n",
      "|    0|69714|\n",
      "|    1|10480|\n",
      "+-----+-----+\n",
      "\n",
      "TEST\n",
      "+-----+-----+\n",
      "|label|count|\n",
      "+-----+-----+\n",
      "|    0|17289|\n",
      "|    1| 2517|\n",
      "+-----+-----+\n",
      "\n"
     ]
    }
   ],
   "source": [
    "from pyspark.sql.functions import col\n",
    "\n",
    "# Etiketlere göre veri setini filtrele\n",
    "class_0_train = df.filter(col(\"label\") == 0)\n",
    "class_1_train = df.filter(col(\"label\") == 1)\n",
    "\n",
    "# Sınıf 0 ve 1 için ayrı ayrı randomSplit yaparak train ve test kümelerini oluştur\n",
    "train_0, test_0 = class_0_train.randomSplit([0.8, 0.2], seed=42)\n",
    "train_1, test_1 = class_1_train.randomSplit([0.8, 0.2], seed=42)\n",
    "\n",
    "# Train ve test kümelerini birleştir\n",
    "train = train_0.union(train_1)\n",
    "test = test_0.union(test_1)\n",
    "\n",
    "print('TRAIN')\n",
    "train.groupby('label').count().show()\n",
    "\n",
    "print('TEST')\n",
    "test.groupby('label').count().show()\n"
   ]
  },
  {
   "cell_type": "code",
   "execution_count": 26,
   "metadata": {},
   "outputs": [],
   "source": [
    "\"\"\"\n",
    "uzun sürdüğü için kodu çalıştırmadım\n",
    "\n",
    "# grid search, best parameter, random forest\n",
    "\n",
    "from pyspark.ml.tuning import ParamGridBuilder, CrossValidator\n",
    "from pyspark.ml.evaluation import BinaryClassificationEvaluator\n",
    "from pyspark.ml.classification import RandomForestClassifier\n",
    "\n",
    "rf = RandomForestClassifier(featuresCol='features', labelCol='label')\n",
    "\n",
    "paramGrid = (ParamGridBuilder()\n",
    "             .addGrid(rf.numTrees, [100, 200])\n",
    "             .addGrid(rf.maxDepth, [5, 10])\n",
    "             .addGrid(rf.minInstancesPerNode, [1, 5, 10])\n",
    "             .addGrid(rf.minInfoGain, [0.0, 0.1, 0.2])\n",
    "             .addGrid(rf.subsamplingRate, [0.5, 0.8, 1.0])\n",
    "             .addGrid(rf.featureSubsetStrategy, ['sqrt', 'log2'])\n",
    "             .addGrid(rf.impurity, ['gini', 'entropy'])\n",
    "             .build())\n",
    "\n",
    "evaluator = BinaryClassificationEvaluator()\n",
    "\n",
    "cv = CrossValidator(estimator=rf,\n",
    "                    estimatorParamMaps=paramGrid,\n",
    "                    evaluator=evaluator,\n",
    "                    numFolds=5)\n",
    "\n",
    "cvModel = cv.fit(train)\n",
    "\n",
    "\"\"\"\n"
   ]
  },
  {
   "cell_type": "code",
   "execution_count": null,
   "metadata": {},
   "outputs": [],
   "source": [
    "\"\"\"\n",
    "\n",
    "bestModel = cvModel.bestModel\n",
    "\n",
    "print(\"En iyi modelin maxDepth değeri:\", bestModel.getMaxDepth())\n",
    "print(\"En iyi modelin numTrees değeri:\", bestModel.getNumTrees)\n",
    "print(\"En iyi modelin featureSubsetStrategy değeri:\", bestModel.getFeatureSubsetStrategy())\n",
    "\n",
    "\"\"\""
   ]
  },
  {
   "cell_type": "code",
   "execution_count": 26,
   "metadata": {},
   "outputs": [],
   "source": [
    "# best parameter değerleri ile en iyi modeli kur\n",
    "from pyspark.ml.classification import RandomForestClassifier\n",
    "from pyspark.ml.evaluation import BinaryClassificationEvaluator\n",
    "\n",
    "\n",
    "rf = RandomForestClassifier(maxDepth=5,numTrees=100)\n",
    "\n",
    "evaluator = BinaryClassificationEvaluator()\n",
    "\n",
    "model = rf.fit(train)"
   ]
  },
  {
   "cell_type": "code",
   "execution_count": 27,
   "metadata": {},
   "outputs": [
    {
     "name": "stdout",
     "output_type": "stream",
     "text": [
      "train\n",
      "Area Under ROC (AUC): 0.6216811641489641\n",
      "Accuracy: 0.8693169065017333\n",
      "f1_score: 0.808543357524106\n"
     ]
    }
   ],
   "source": [
    "training_summary = model.summary\n",
    "\n",
    "print(\"train\")\n",
    "print(\"Area Under ROC (AUC): \" + str(training_summary.areaUnderROC))\n",
    "print(\"Accuracy: \" + str(training_summary.accuracy ))\n",
    "print(\"f1_score: \" + str(training_summary.weightedFMeasure()))"
   ]
  },
  {
   "cell_type": "code",
   "execution_count": 28,
   "metadata": {},
   "outputs": [
    {
     "name": "stdout",
     "output_type": "stream",
     "text": [
      "+--------------------+-----+--------------------+--------------------+----------+\n",
      "|            features|label|       rawPrediction|         probability|prediction|\n",
      "+--------------------+-----+--------------------+--------------------+----------+\n",
      "|(19,[0,1,2,3,4,5,...|    0|[87.7648545005771...|[0.87764854500577...|       0.0|\n",
      "|(19,[0,1,2,3,4,5,...|    0|[87.7648545005771...|[0.87764854500577...|       0.0|\n",
      "|(19,[0,1,2,3,4,5,...|    0|[87.7648545005771...|[0.87764854500577...|       0.0|\n",
      "|(19,[0,1,2,3,4,5,...|    0|[86.4226729854697...|[0.86422672985469...|       0.0|\n",
      "|(19,[0,1,2,3,4,5,...|    0|[86.1754846435346...|[0.86175484643534...|       0.0|\n",
      "+--------------------+-----+--------------------+--------------------+----------+\n",
      "only showing top 5 rows\n",
      "\n"
     ]
    }
   ],
   "source": [
    "predictions = model.transform(test)\n",
    "predictions.show(5)"
   ]
  },
  {
   "cell_type": "code",
   "execution_count": 29,
   "metadata": {},
   "outputs": [
    {
     "name": "stdout",
     "output_type": "stream",
     "text": [
      "train\n",
      "Area Under ROC (AUC): 0.6216811641489641\n",
      "Accuracy: 0.8693169065017333\n",
      "f1_score: 0.808543357524106\n",
      "-----------------------------------\n",
      "test\n",
      "AUC: 0.609652661399275\n",
      "Accuracy: 0.8729172977885489\n",
      "f1_score: 0.8136874059288973\n"
     ]
    }
   ],
   "source": [
    "from pyspark.ml.evaluation import BinaryClassificationEvaluator,MulticlassClassificationEvaluator\n",
    "\n",
    "\n",
    "print(\"train\")\n",
    "print(\"Area Under ROC (AUC): \" + str(training_summary.areaUnderROC))\n",
    "print(\"Accuracy: \" + str(training_summary.accuracy ))\n",
    "print(\"f1_score: \" + str(training_summary.weightedFMeasure()))\n",
    "\n",
    "print(\"-----------------------------------\")\n",
    "\n",
    "print(\"test\")\n",
    "evaluator = BinaryClassificationEvaluator()\n",
    "print('AUC:', evaluator.evaluate(predictions))\n",
    "\n",
    "evaluator = MulticlassClassificationEvaluator(metricName=\"accuracy\")\n",
    "print(\"Accuracy:\",evaluator.evaluate(predictions))\n",
    "\n",
    "evaluator = MulticlassClassificationEvaluator(metricName=\"f1\")\n",
    "print(\"f1_score:\",evaluator.evaluate(predictions))"
   ]
  },
  {
   "cell_type": "code",
   "execution_count": 30,
   "metadata": {},
   "outputs": [
    {
     "data": {
      "image/png": "[encoded data removed]",
      "text/plain": [
       "<Figure size 640x480 with 2 Axes>"
      ]
     },
     "metadata": {},
     "output_type": "display_data"
    }
   ],
   "source": [
    "# confusion_matrix\n",
    "\n",
    "import seaborn as sns\n",
    "import matplotlib.pyplot as plt\n",
    "from sklearn.metrics import confusion_matrix\n",
    "\n",
    "y_true = predictions.select('label').toPandas()\n",
    "y_pred = predictions.select('prediction').toPandas()\n",
    "\n",
    "cnf_matrix = confusion_matrix(y_true, y_pred, labels=[0,1])\n",
    "\n",
    "import seaborn as sns\n",
    "import matplotlib.pyplot as plt\n",
    "\n",
    "# Confusion matrix'i heatmap olarak görselleştirme\n",
    "sns.heatmap(cnf_matrix, annot=True, fmt='d', cmap='Blues', xticklabels=['Predicted 0', 'Predicted 1'], yticklabels=['Actual 0', 'Actual 1'])\n",
    "plt.xlabel('Predicted labels')\n",
    "plt.ylabel('True labels')\n",
    "plt.title('Confusion Matrix')\n",
    "plt.show()\n",
    "plt.show()"
   ]
  },
  {
   "cell_type": "code",
   "execution_count": 31,
   "metadata": {},
   "outputs": [
    {
     "name": "stdout",
     "output_type": "stream",
     "text": [
      "Precision = 0.00\n",
      "Recall = 0.00\n"
     ]
    }
   ],
   "source": [
    "from pyspark.sql.functions import col, when\n",
    "\n",
    "TP = predictions.filter((col(\"prediction\") == 1) & (col(\"label\") == 1)).count()\n",
    "FP = predictions.filter((col(\"prediction\") == 1) & (col(\"label\") == 0)).count()\n",
    "FN = predictions.filter((col(\"prediction\") == 0) & (col(\"label\") == 1)).count()\n",
    "\n",
    "# Hassasiyet (Precision) hesapla\n",
    "precision = (TP / (TP + FP))*100 if (TP + FP) != 0 else 0\n",
    "\n",
    "# Geri çağırma (Recall) hesapla\n",
    "recall = (TP / (TP + FN))*100 if (TP + FN) != 0 else 0\n",
    "\n",
    "print(\"Precision = {:.2f}\".format(precision))\n",
    "print(\"Recall = {:.2f}\".format(recall))"
   ]
  },
  {
   "cell_type": "code",
   "execution_count": null,
   "metadata": {},
   "outputs": [],
   "source": [
    "# modelim sınıflar arasında ayrım yapamamış\n",
    "# train ve test setinin Accuracy ile f1_score değerlerine bakıldığı zaman test seti daha iyi değerler vermiş overfit olmuş olabilir"
   ]
  }
 ],
 "metadata": {
  "kernelspec": {
   "display_name": "Python 3",
   "language": "python",
   "name": "python3"
  },
  "language_info": {
   "codemirror_mode": {
    "name": "ipython",
    "version": 3
   },
   "file_extension": ".py",
   "mimetype": "text/x-python",
   "name": "python",
   "nbconvert_exporter": "python",
   "pygments_lexer": "ipython3",
   "version": "3.10.0"
  }
 },
 "nbformat": 4,
 "nbformat_minor": 2
}
