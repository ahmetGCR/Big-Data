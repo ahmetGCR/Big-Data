{
  "cells": [
    {
      "cell_type": "markdown",
      "metadata": {},
      "source": [
        "Amaç: true ve fake haberleden oluşan dataseti ile model oluşturup tahminler yapacağız."
      ]
    },
    {
      "cell_type": "code",
      "execution_count": 1,
      "metadata": {
        "id": "yOgIH0fyzF0H"
      },
      "outputs": [],
      "source": [
        "import pyspark\n",
        "import pandas as pd\n",
        "from pyspark import SparkContext\n",
        "from pyspark.sql import SparkSession, SQLContext\n",
        "\n",
        "import os\n",
        "import sys\n",
        "from pyspark.sql import SparkSession\n",
        "\n",
        "os.environ['PYSPARK_PYTHON'] = sys.executable\n",
        "os.environ['PYSPARK_DRIVER_PYTHON'] = sys.executable"
      ]
    },
    {
      "cell_type": "code",
      "execution_count": 2,
      "metadata": {
        "id": "lMOBYBlDzF0L"
      },
      "outputs": [],
      "source": [
        "sc= SparkContext(master= 'local', appName= 'Fake and real news')\n",
        "spark= SparkSession(sc)"
      ]
    },
    {
      "cell_type": "code",
      "execution_count": null,
      "metadata": {},
      "outputs": [],
      "source": [
        "\"sc.stop()\""
      ]
    },
    {
      "cell_type": "code",
      "execution_count": 4,
      "metadata": {
        "id": "Er21xPopzF0M"
      },
      "outputs": [],
      "source": [
        "from pyspark.sql.types import StringType, StructField, StructType\n",
        "def read_data(path):\n",
        "  schema= StructType(\n",
        "      [StructField('title',StringType(),True),\n",
        "      StructField('text',StringType(),True),\n",
        "      StructField('subject',StringType(),True),\n",
        "      StructField('date',StringType(),True)])\n",
        "  pd_df= pd.read_csv(path)\n",
        "  spark_df= spark.createDataFrame(pd_df, schema= schema)\n",
        "  return spark_df\n"
      ]
    },
    {
      "cell_type": "code",
      "execution_count": 5,
      "metadata": {
        "id": "DxLvtZanzF0P"
      },
      "outputs": [
        {
          "name": "stdout",
          "output_type": "stream",
          "text": [
            "+--------------------+--------------------+------------+------------------+\n",
            "|               title|                text|     subject|              date|\n",
            "+--------------------+--------------------+------------+------------------+\n",
            "|As U.S. budget fi...|WASHINGTON (Reute...|politicsNews|December 31, 2017 |\n",
            "|U.S. military to ...|WASHINGTON (Reute...|politicsNews|December 29, 2017 |\n",
            "|Senior U.S. Repub...|WASHINGTON (Reute...|politicsNews|December 31, 2017 |\n",
            "|FBI Russia probe ...|WASHINGTON (Reute...|politicsNews|December 30, 2017 |\n",
            "|Trump wants Posta...|SEATTLE/WASHINGTO...|politicsNews|December 29, 2017 |\n",
            "+--------------------+--------------------+------------+------------------+\n",
            "only showing top 5 rows\n",
            "\n"
          ]
        }
      ],
      "source": [
        "path_true= 'True.csv'\n",
        "true_df= read_data(path_true)\n",
        "true_df.show(5)"
      ]
    },
    {
      "cell_type": "code",
      "execution_count": 6,
      "metadata": {
        "id": "GIS3V4CJzF0P"
      },
      "outputs": [
        {
          "name": "stdout",
          "output_type": "stream",
          "text": [
            "+--------------------+--------------------+-------+-----------------+\n",
            "|               title|                text|subject|             date|\n",
            "+--------------------+--------------------+-------+-----------------+\n",
            "| Donald Trump Sen...|Donald Trump just...|   News|December 31, 2017|\n",
            "| Drunk Bragging T...|House Intelligenc...|   News|December 31, 2017|\n",
            "| Sheriff David Cl...|On Friday, it was...|   News|December 30, 2017|\n",
            "| Trump Is So Obse...|On Christmas day,...|   News|December 29, 2017|\n",
            "| Pope Francis Jus...|Pope Francis used...|   News|December 25, 2017|\n",
            "+--------------------+--------------------+-------+-----------------+\n",
            "only showing top 5 rows\n",
            "\n"
          ]
        }
      ],
      "source": [
        "path_fake= 'Fake.csv'\n",
        "fake_df= read_data(path_fake)\n",
        "fake_df.show(5)"
      ]
    },
    {
      "cell_type": "code",
      "execution_count": 7,
      "metadata": {
        "colab": {
          "base_uri": "https://localhost:8080/"
        },
        "id": "yJn1EekSzF0Q",
        "outputId": "cf0dd3bc-b167-4007-ebcc-d881a2539291"
      },
      "outputs": [
        {
          "data": {
            "text/plain": [
              "(21417, 4)"
            ]
          },
          "execution_count": 7,
          "metadata": {},
          "output_type": "execute_result"
        }
      ],
      "source": [
        "# satır ve sutun sayısı\n",
        "\n",
        "true_df.count(), len(true_df.columns)"
      ]
    },
    {
      "cell_type": "code",
      "execution_count": 8,
      "metadata": {
        "colab": {
          "base_uri": "https://localhost:8080/"
        },
        "id": "yIfWnzX_zF0Q",
        "outputId": "8ed7eaf1-ccbd-4740-c418-b2e28ee156ac"
      },
      "outputs": [
        {
          "data": {
            "text/plain": [
              "(23481, 4)"
            ]
          },
          "execution_count": 8,
          "metadata": {},
          "output_type": "execute_result"
        }
      ],
      "source": [
        "# satır ve sutun sayısı\n",
        "\n",
        "fake_df.count(), len(fake_df.columns)"
      ]
    },
    {
      "cell_type": "code",
      "execution_count": 9,
      "metadata": {
        "colab": {
          "base_uri": "https://localhost:8080/"
        },
        "id": "tQtHkdcdzF0R",
        "outputId": "c1cf9fbb-3c0a-4c06-b72d-3742a67dafed"
      },
      "outputs": [
        {
          "name": "stdout",
          "output_type": "stream",
          "text": [
            "+--------------------+--------------------+------------+------------------+-----+\n",
            "|               title|                text|     subject|              date|label|\n",
            "+--------------------+--------------------+------------+------------------+-----+\n",
            "|As U.S. budget fi...|WASHINGTON (Reute...|politicsNews|December 31, 2017 |    1|\n",
            "|U.S. military to ...|WASHINGTON (Reute...|politicsNews|December 29, 2017 |    1|\n",
            "|Senior U.S. Repub...|WASHINGTON (Reute...|politicsNews|December 31, 2017 |    1|\n",
            "+--------------------+--------------------+------------+------------------+-----+\n",
            "only showing top 3 rows\n",
            "\n"
          ]
        }
      ],
      "source": [
        "# true verime label kolonu ekledim ve değerini 1 verdim\n",
        "\n",
        "from pyspark.sql.functions import lit, rand\n",
        "true_df = true_df.withColumn(\"label\", lit(1))\n",
        "true_df.show(3)"
      ]
    },
    {
      "cell_type": "code",
      "execution_count": 10,
      "metadata": {
        "colab": {
          "base_uri": "https://localhost:8080/"
        },
        "id": "LD5DrLx-zF0S",
        "outputId": "7f4e6fa6-4147-494a-fad4-0f0acabba1db"
      },
      "outputs": [
        {
          "name": "stdout",
          "output_type": "stream",
          "text": [
            "+--------------------+--------------------+-------+-----------------+-----+\n",
            "|               title|                text|subject|             date|label|\n",
            "+--------------------+--------------------+-------+-----------------+-----+\n",
            "| Donald Trump Sen...|Donald Trump just...|   News|December 31, 2017|    0|\n",
            "| Drunk Bragging T...|House Intelligenc...|   News|December 31, 2017|    0|\n",
            "| Sheriff David Cl...|On Friday, it was...|   News|December 30, 2017|    0|\n",
            "+--------------------+--------------------+-------+-----------------+-----+\n",
            "only showing top 3 rows\n",
            "\n"
          ]
        }
      ],
      "source": [
        "# fake verime label kolonu ekledim ve değerini 0 verdim\n",
        "\n",
        "from pyspark.sql.functions import lit, rand\n",
        "fake_df = fake_df.withColumn(\"label\", lit(0))\n",
        "fake_df.show(3)"
      ]
    },
    {
      "cell_type": "code",
      "execution_count": 11,
      "metadata": {
        "colab": {
          "base_uri": "https://localhost:8080/"
        },
        "id": "u16Z_tqfzF0T",
        "outputId": "30e8a3de-8e28-484c-9d40-139a2b6b907a"
      },
      "outputs": [
        {
          "name": "stdout",
          "output_type": "stream",
          "text": [
            "+--------------------+--------------------+---------------+------------------+-----+\n",
            "|               title|                text|        subject|              date|label|\n",
            "+--------------------+--------------------+---------------+------------------+-----+\n",
            "|Flynn pleads guil...|WASHINGTON (Reute...|   politicsNews| December 1, 2017 |    1|\n",
            "|Greek prime minis...|WASHINGTON (Reute...|   politicsNews| October 17, 2017 |    1|\n",
            "|Myanmar to grant ...|YANGON (Reuters) ...|      worldnews|December 23, 2017 |    1|\n",
            "|Mongolian parliam...|ULAANBAATAR (Reut...|      worldnews|September 7, 2017 |    1|\n",
            "|GUN GRABBING JUDG...|In a 10-4 ruling,...|Government News|      Feb 23, 2017|    0|\n",
            "+--------------------+--------------------+---------------+------------------+-----+\n",
            "only showing top 5 rows\n",
            "\n"
          ]
        }
      ],
      "source": [
        "# iki veriyi birleştirdim\n",
        "\n",
        "df = true_df.union(fake_df).orderBy(rand())\n",
        "df.show(5)"
      ]
    },
    {
      "cell_type": "code",
      "execution_count": 12,
      "metadata": {
        "colab": {
          "base_uri": "https://localhost:8080/"
        },
        "id": "I7CAq5QezF0T",
        "outputId": "b2c676d6-8e5b-40fe-c503-3b107eb9fb25"
      },
      "outputs": [
        {
          "data": {
            "text/plain": [
              "(44898, 5)"
            ]
          },
          "execution_count": 12,
          "metadata": {},
          "output_type": "execute_result"
        }
      ],
      "source": [
        "# toplam satır ve sutun sayısı\n",
        "\n",
        "df.count(),len(df.columns)"
      ]
    },
    {
      "cell_type": "code",
      "execution_count": 13,
      "metadata": {
        "colab": {
          "base_uri": "https://localhost:8080/"
        },
        "id": "kaXzHEdpzF0U",
        "outputId": "20c1c550-5410-49ee-8152-75f056028488"
      },
      "outputs": [
        {
          "name": "stdout",
          "output_type": "stream",
          "text": [
            "root\n",
            " |-- title: string (nullable = true)\n",
            " |-- text: string (nullable = true)\n",
            " |-- subject: string (nullable = true)\n",
            " |-- date: string (nullable = true)\n",
            " |-- label: integer (nullable = false)\n",
            "\n"
          ]
        }
      ],
      "source": [
        "df.printSchema()"
      ]
    },
    {
      "cell_type": "code",
      "execution_count": 58,
      "metadata": {},
      "outputs": [
        {
          "name": "stdout",
          "output_type": "stream",
          "text": [
            "+-----+----+-------+-----+\n",
            "|title|text|subject|label|\n",
            "+-----+----+-------+-----+\n",
            "|    0|   0|      0|    0|\n",
            "+-----+----+-------+-----+\n",
            "\n"
          ]
        }
      ],
      "source": [
        "# eksik değerler kontrolü\n",
        "\n",
        "from pyspark.sql import functions as F\n",
        "\n",
        "# df içindeki eksik değerleri kontrol et\n",
        "df.select([F.count(F.when(F.col(c).isNull(), c)).alias(c) for c in df.columns]).show(5)"
      ]
    },
    {
      "cell_type": "code",
      "execution_count": 14,
      "metadata": {
        "colab": {
          "base_uri": "https://localhost:8080/"
        },
        "id": "VX-lflYNzF0U",
        "outputId": "33e1044e-a57b-48f8-8ce7-53f7d5d1e488"
      },
      "outputs": [
        {
          "name": "stdout",
          "output_type": "stream",
          "text": [
            "+-----+-----+\n",
            "|label|count|\n",
            "+-----+-----+\n",
            "|    1|21417|\n",
            "|    0|23481|\n",
            "+-----+-----+\n",
            "\n"
          ]
        }
      ],
      "source": [
        "# target sutunumun dağılımını kontrol ettim\n",
        "\n",
        "df.groupBy(\"label\").count().show()"
      ]
    },
    {
      "cell_type": "code",
      "execution_count": 15,
      "metadata": {
        "colab": {
          "base_uri": "https://localhost:8080/"
        },
        "id": "CBMD9g60zF0V",
        "outputId": "df08b773-e575-4f56-ac60-5038e0871b09"
      },
      "outputs": [
        {
          "name": "stdout",
          "output_type": "stream",
          "text": [
            "+------------+-----+\n",
            "|     subject|count|\n",
            "+------------+-----+\n",
            "|   worldnews|10145|\n",
            "|politicsNews|11272|\n",
            "|     US_News|  783|\n",
            "|   left-news| 4459|\n",
            "|    politics| 6841|\n",
            "+------------+-----+\n",
            "only showing top 5 rows\n",
            "\n"
          ]
        }
      ],
      "source": [
        "# subject sutunu da işlemlerime ekleyeceğim onu da kontrol ettim\n",
        "\n",
        "df.groupBy(\"subject\").count().show(5)"
      ]
    },
    {
      "cell_type": "code",
      "execution_count": 16,
      "metadata": {
        "colab": {
          "base_uri": "https://localhost:8080/"
        },
        "id": "vnErluOePQUA",
        "outputId": "db2d5f8c-c0bf-4719-cec1-60bec6527bc7"
      },
      "outputs": [
        {
          "name": "stdout",
          "output_type": "stream",
          "text": [
            "+--------------------+--------------------+------------+------------------+-----+\n",
            "|               title|                text|     subject|              date|label|\n",
            "+--------------------+--------------------+------------+------------------+-----+\n",
            "|Flynn pleads guil...|WASHINGTON (Reute...|politicsNews| December 1, 2017 |    1|\n",
            "|Greek prime minis...|WASHINGTON (Reute...|politicsNews| October 17, 2017 |    1|\n",
            "|Myanmar to grant ...|YANGON (Reuters) ...|   worldnews|December 23, 2017 |    1|\n",
            "+--------------------+--------------------+------------+------------------+-----+\n",
            "only showing top 3 rows\n",
            "\n"
          ]
        }
      ],
      "source": [
        "df.show(3)"
      ]
    },
    {
      "cell_type": "markdown",
      "metadata": {
        "id": "JHfywiAQFzpX"
      },
      "source": [
        "## title sutunu için"
      ]
    },
    {
      "cell_type": "code",
      "execution_count": 17,
      "metadata": {
        "id": "x6Q-quduEo2f"
      },
      "outputs": [
        {
          "name": "stdout",
          "output_type": "stream",
          "text": [
            "+--------------------+--------------------+---------------+------------------+-----+--------------------+--------------------+--------------------+--------------------+\n",
            "|               title|                text|        subject|              date|label|         title_words|    title_sw_removed|            tf_title|        tf_idf_title|\n",
            "+--------------------+--------------------+---------------+------------------+-----+--------------------+--------------------+--------------------+--------------------+\n",
            "|Flynn pleads guil...|WASHINGTON (Reute...|   politicsNews| December 1, 2017 |    1|[flynn, pleads, g...|[flynn, pleads, g...|(22081,[4,16,111,...|(22081,[4,16,111,...|\n",
            "|Greek prime minis...|WASHINGTON (Reute...|   politicsNews| October 17, 2017 |    1|[greek, prime, mi...|[greek, prime, mi...|(22081,[5,92,130,...|(22081,[5,92,130,...|\n",
            "|Myanmar to grant ...|YANGON (Reuters) ...|      worldnews|December 23, 2017 |    1|[myanmar, to, gra...|[myanmar, grant, ...|(22081,[41,106,21...|(22081,[41,106,21...|\n",
            "|Mongolian parliam...|ULAANBAATAR (Reut...|      worldnews|September 7, 2017 |    1|[mongolian, parli...|[mongolian, parli...|(22081,[92,381,45...|(22081,[92,381,45...|\n",
            "|GUN GRABBING JUDG...|In a 10-4 ruling,...|Government News|      Feb 23, 2017|    0|[gun, grabb, ng, ...|[gun, grabb, ng, ...|(22081,[8,96,102,...|(22081,[8,96,102,...|\n",
            "+--------------------+--------------------+---------------+------------------+-----+--------------------+--------------------+--------------------+--------------------+\n",
            "only showing top 5 rows\n",
            "\n"
          ]
        }
      ],
      "source": [
        "# pattern = '\\\\W' sadece harf ve rakamları al,noktalama işaretlerini ve boşlukları çıkar\n",
        "# toLowercase= True = tüm kelimeleri küçük harfe dönüştür\n",
        "from pyspark.ml.feature import SQLTransformer, RegexTokenizer\n",
        "title_tokenizer= RegexTokenizer(inputCol= 'title', outputCol= 'title_words',\n",
        "                                pattern= '\\\\W', toLowercase= True)\n",
        "title_tokenized_df = title_tokenizer.transform(df)\n",
        "\n",
        "\n",
        "# stopword leri çıkar\n",
        "from pyspark.ml.feature import SQLTransformer, StopWordsRemover\n",
        "title_sw_remover= StopWordsRemover(inputCol= 'title_words',\n",
        "                                   outputCol= 'title_sw_removed')\n",
        "title_sw_removed_df = title_sw_remover.transform(title_tokenized_df)\n",
        "\n",
        "\n",
        "# terim frekans vektörünü oluştur\n",
        "# belgeler arasındaki kelime sıklığını dikkate alır\n",
        "from pyspark.ml.feature import SQLTransformer,CountVectorizer\n",
        "title_count_vectorizer= CountVectorizer(inputCol= 'title_sw_removed',\n",
        "                                        outputCol= 'tf_title')\n",
        "title_count_vectorized_df = title_count_vectorizer.fit(title_sw_removed_df).transform(title_sw_removed_df)\n",
        "\n",
        "\n",
        "# belgelerdeki terimlerin önemini ölçer\n",
        "# Ters belge frekans vektörüne oluşturulur\n",
        "from pyspark.ml.feature import SQLTransformer, IDF\n",
        "title_tfidf= IDF(inputCol= 'tf_title', outputCol= 'tf_idf_title')\n",
        "df = title_tfidf.fit(title_count_vectorized_df).transform(title_count_vectorized_df)\n",
        "\n",
        "df.show(5)"
      ]
    },
    {
      "cell_type": "markdown",
      "metadata": {
        "id": "IzfU3ZMpJq9m"
      },
      "source": [
        "## text sutunu için"
      ]
    },
    {
      "cell_type": "code",
      "execution_count": 18,
      "metadata": {
        "id": "U6NV3XyQJmzN"
      },
      "outputs": [
        {
          "name": "stdout",
          "output_type": "stream",
          "text": [
            "+--------------------+--------------------+---------------+------------------+-----+--------------------+--------------------+--------------------+--------------------+--------------------+--------------------+--------------------+--------------------+\n",
            "|               title|                text|        subject|              date|label|         title_words|    title_sw_removed|            tf_title|        tf_idf_title|          text_words|     text_sw_removed|             tf_text|         tf_idf_text|\n",
            "+--------------------+--------------------+---------------+------------------+-----+--------------------+--------------------+--------------------+--------------------+--------------------+--------------------+--------------------+--------------------+\n",
            "|Flynn pleads guil...|WASHINGTON (Reute...|   politicsNews| December 1, 2017 |    1|[flynn, pleads, g...|[flynn, pleads, g...|(22081,[4,16,111,...|(22081,[4,16,111,...|[wash, ngton, reu...|[wash, ngton, reu...|(123121,[0,1,2,3,...|(123121,[0,1,2,3,...|\n",
            "|Greek prime minis...|WASHINGTON (Reute...|   politicsNews| October 17, 2017 |    1|[greek, prime, mi...|[greek, prime, mi...|(22081,[5,92,130,...|(22081,[5,92,130,...|[wash, ngton, reu...|[wash, ngton, reu...|(123121,[0,1,2,3,...|(123121,[0,1,2,3,...|\n",
            "|Myanmar to grant ...|YANGON (Reuters) ...|      worldnews|December 23, 2017 |    1|[myanmar, to, gra...|[myanmar, grant, ...|(22081,[41,106,21...|(22081,[41,106,21...|[yangon, reuters,...|[yangon, reuters,...|(123121,[1,6,7,10...|(123121,[1,6,7,10...|\n",
            "|Mongolian parliam...|ULAANBAATAR (Reut...|      worldnews|September 7, 2017 |    1|[mongolian, parli...|[mongolian, parli...|(22081,[92,381,45...|(22081,[92,381,45...|[ulaanbaatar, reu...|[ulaanbaatar, reu...|(123121,[1,2,4,6,...|(123121,[1,2,4,6,...|\n",
            "|GUN GRABBING JUDG...|In a 10-4 ruling,...|Government News|      Feb 23, 2017|    0|[gun, grabb, ng, ...|[gun, grabb, ng, ...|(22081,[8,96,102,...|(22081,[8,96,102,...|[n, a, 10, 4, rul...|[n, 10, 4, ruling...|(123121,[1,4,5,7,...|(123121,[1,4,5,7,...|\n",
            "+--------------------+--------------------+---------------+------------------+-----+--------------------+--------------------+--------------------+--------------------+--------------------+--------------------+--------------------+--------------------+\n",
            "only showing top 5 rows\n",
            "\n"
          ]
        }
      ],
      "source": [
        "text_tokenizer= RegexTokenizer(inputCol= 'text', outputCol= 'text_words',\n",
        "                                pattern= '\\\\W', toLowercase= True)\n",
        "text_tokenized_df = text_tokenizer.transform(df)\n",
        "\n",
        "\n",
        "text_sw_remover= StopWordsRemover(inputCol= 'text_words',\n",
        "                                  outputCol= 'text_sw_removed')\n",
        "text_sw_removed_df = text_sw_remover.transform(text_tokenized_df)\n",
        "\n",
        "\n",
        "text_count_vectorizer= CountVectorizer(inputCol= 'text_sw_removed',\n",
        "                                       outputCol= 'tf_text')\n",
        "text_count_vectorized_df = text_count_vectorizer.fit(text_sw_removed_df).transform(text_sw_removed_df)\n",
        "\n",
        "\n",
        "text_tfidf= IDF(inputCol= 'tf_text', outputCol= 'tf_idf_text')\n",
        "df = text_tfidf.fit(text_count_vectorized_df).transform(text_count_vectorized_df)\n",
        "\n",
        "df.show(5)"
      ]
    },
    {
      "cell_type": "markdown",
      "metadata": {
        "id": "90DlaGYbKFQv"
      },
      "source": [
        "## subject sutunu"
      ]
    },
    {
      "cell_type": "code",
      "execution_count": 19,
      "metadata": {
        "id": "gH4bhiC4KDUX"
      },
      "outputs": [
        {
          "name": "stdout",
          "output_type": "stream",
          "text": [
            "+--------------------+--------------------+---------------+------------------+-----+--------------------+--------------------+--------------------+--------------------+--------------------+--------------------+--------------------+--------------------+-----------+\n",
            "|               title|                text|        subject|              date|label|         title_words|    title_sw_removed|            tf_title|        tf_idf_title|          text_words|     text_sw_removed|             tf_text|         tf_idf_text|subject_idx|\n",
            "+--------------------+--------------------+---------------+------------------+-----+--------------------+--------------------+--------------------+--------------------+--------------------+--------------------+--------------------+--------------------+-----------+\n",
            "|Flynn pleads guil...|WASHINGTON (Reute...|   politicsNews| December 1, 2017 |    1|[flynn, pleads, g...|[flynn, pleads, g...|(22081,[4,16,111,...|(22081,[4,16,111,...|[wash, ngton, reu...|[wash, ngton, reu...|(123121,[0,1,2,3,...|(123121,[0,1,2,3,...|        0.0|\n",
            "|Greek prime minis...|WASHINGTON (Reute...|   politicsNews| October 17, 2017 |    1|[greek, prime, mi...|[greek, prime, mi...|(22081,[5,92,130,...|(22081,[5,92,130,...|[wash, ngton, reu...|[wash, ngton, reu...|(123121,[0,1,2,3,...|(123121,[0,1,2,3,...|        0.0|\n",
            "|Myanmar to grant ...|YANGON (Reuters) ...|      worldnews|December 23, 2017 |    1|[myanmar, to, gra...|[myanmar, grant, ...|(22081,[41,106,21...|(22081,[41,106,21...|[yangon, reuters,...|[yangon, reuters,...|(123121,[1,6,7,10...|(123121,[1,6,7,10...|        1.0|\n",
            "|Mongolian parliam...|ULAANBAATAR (Reut...|      worldnews|September 7, 2017 |    1|[mongolian, parli...|[mongolian, parli...|(22081,[92,381,45...|(22081,[92,381,45...|[ulaanbaatar, reu...|[ulaanbaatar, reu...|(123121,[1,2,4,6,...|(123121,[1,2,4,6,...|        1.0|\n",
            "|GUN GRABBING JUDG...|In a 10-4 ruling,...|Government News|      Feb 23, 2017|    0|[gun, grabb, ng, ...|[gun, grabb, ng, ...|(22081,[8,96,102,...|(22081,[8,96,102,...|[n, a, 10, 4, rul...|[n, 10, 4, ruling...|(123121,[1,4,5,7,...|(123121,[1,4,5,7,...|        5.0|\n",
            "+--------------------+--------------------+---------------+------------------+-----+--------------------+--------------------+--------------------+--------------------+--------------------+--------------------+--------------------+--------------------+-----------+\n",
            "only showing top 5 rows\n",
            "\n"
          ]
        }
      ],
      "source": [
        "from pyspark.ml.feature import StringIndexer\n",
        "\n",
        "subject_str_indexer= StringIndexer(inputCol= 'subject', outputCol= 'subject_idx')\n",
        "subject_str_indexer_model = subject_str_indexer.fit(df)\n",
        "df = subject_str_indexer_model.transform(df)\n",
        "\n",
        "df.show(5)"
      ]
    },
    {
      "cell_type": "code",
      "execution_count": 20,
      "metadata": {
        "id": "rRJV50jOKUQA"
      },
      "outputs": [],
      "source": [
        "from pyspark.ml.feature import VectorAssembler\n",
        "vec_assembler= VectorAssembler(inputCols=['tf_idf_title', 'tf_idf_text', 'subject_idx'],\n",
        "                               outputCol= 'features')\n"
      ]
    },
    {
      "cell_type": "code",
      "execution_count": 21,
      "metadata": {
        "id": "MYny6GFONNXo"
      },
      "outputs": [
        {
          "name": "stdout",
          "output_type": "stream",
          "text": [
            "+--------------------+--------------------+---------------+------------------+-----+--------------------+--------------------+--------------------+--------------------+--------------------+--------------------+--------------------+--------------------+-----------+--------------------+\n",
            "|               title|                text|        subject|              date|label|         title_words|    title_sw_removed|            tf_title|        tf_idf_title|          text_words|     text_sw_removed|             tf_text|         tf_idf_text|subject_idx|            features|\n",
            "+--------------------+--------------------+---------------+------------------+-----+--------------------+--------------------+--------------------+--------------------+--------------------+--------------------+--------------------+--------------------+-----------+--------------------+\n",
            "|Flynn pleads guil...|WASHINGTON (Reute...|   politicsNews| December 1, 2017 |    1|[flynn, pleads, g...|[flynn, pleads, g...|(22081,[4,16,111,...|(22081,[4,16,111,...|[wash, ngton, reu...|[wash, ngton, reu...|(123121,[0,1,2,3,...|(123121,[0,1,2,3,...|        0.0|(145203,[4,16,111...|\n",
            "|Greek prime minis...|WASHINGTON (Reute...|   politicsNews| October 17, 2017 |    1|[greek, prime, mi...|[greek, prime, mi...|(22081,[5,92,130,...|(22081,[5,92,130,...|[wash, ngton, reu...|[wash, ngton, reu...|(123121,[0,1,2,3,...|(123121,[0,1,2,3,...|        0.0|(145203,[5,92,130...|\n",
            "|Myanmar to grant ...|YANGON (Reuters) ...|      worldnews|December 23, 2017 |    1|[myanmar, to, gra...|[myanmar, grant, ...|(22081,[41,106,21...|(22081,[41,106,21...|[yangon, reuters,...|[yangon, reuters,...|(123121,[1,6,7,10...|(123121,[1,6,7,10...|        1.0|(145203,[41,106,2...|\n",
            "|Mongolian parliam...|ULAANBAATAR (Reut...|      worldnews|September 7, 2017 |    1|[mongolian, parli...|[mongolian, parli...|(22081,[92,381,45...|(22081,[92,381,45...|[ulaanbaatar, reu...|[ulaanbaatar, reu...|(123121,[1,2,4,6,...|(123121,[1,2,4,6,...|        1.0|(145203,[92,381,4...|\n",
            "|GUN GRABBING JUDG...|In a 10-4 ruling,...|Government News|      Feb 23, 2017|    0|[gun, grabb, ng, ...|[gun, grabb, ng, ...|(22081,[8,96,102,...|(22081,[8,96,102,...|[n, a, 10, 4, rul...|[n, 10, 4, ruling...|(123121,[1,4,5,7,...|(123121,[1,4,5,7,...|        5.0|(145203,[8,96,102...|\n",
            "+--------------------+--------------------+---------------+------------------+-----+--------------------+--------------------+--------------------+--------------------+--------------------+--------------------+--------------------+--------------------+-----------+--------------------+\n",
            "only showing top 5 rows\n",
            "\n"
          ]
        }
      ],
      "source": [
        "df = vec_assembler.transform(df)\n",
        "\n",
        "df.show(5)"
      ]
    },
    {
      "cell_type": "code",
      "execution_count": 22,
      "metadata": {
        "id": "Sa7pzKGhagvZ"
      },
      "outputs": [
        {
          "name": "stdout",
          "output_type": "stream",
          "text": [
            "+--------------------+--------------------+---------------+-----+\n",
            "|               title|                text|        subject|label|\n",
            "+--------------------+--------------------+---------------+-----+\n",
            "|Flynn pleads guil...|WASHINGTON (Reute...|   politicsNews|    1|\n",
            "|Greek prime minis...|WASHINGTON (Reute...|   politicsNews|    1|\n",
            "|Myanmar to grant ...|YANGON (Reuters) ...|      worldnews|    1|\n",
            "|Mongolian parliam...|ULAANBAATAR (Reut...|      worldnews|    1|\n",
            "|GUN GRABBING JUDG...|In a 10-4 ruling,...|Government News|    0|\n",
            "+--------------------+--------------------+---------------+-----+\n",
            "only showing top 5 rows\n",
            "\n"
          ]
        }
      ],
      "source": [
        "df = df.select(\"title\", \"text\",\"subject\",\"label\")\n",
        "df.show(5)\n"
      ]
    },
    {
      "cell_type": "code",
      "execution_count": 23,
      "metadata": {
        "id": "k76--4tyYLlE"
      },
      "outputs": [],
      "source": [
        "train, test= df.randomSplit([0.8, 0.2], seed=42)"
      ]
    },
    {
      "cell_type": "code",
      "execution_count": 24,
      "metadata": {
        "id": "YCU0vxJ0pMm2"
      },
      "outputs": [
        {
          "name": "stdout",
          "output_type": "stream",
          "text": [
            "+--------------------+--------------------+-------+-----+\n",
            "|               title|                text|subject|label|\n",
            "+--------------------+--------------------+-------+-----+\n",
            "|\\r\\r\\r\\r\\r\\r\\r\\nD...|A 10-year-old gir...|   News|    0|\n",
            "|\\r\\r\\r\\r\\r\\r\\r\\nE...|At this point, ev...|   News|    0|\n",
            "| #AfterTrumpImplo...|What will the wor...|   News|    0|\n",
            "| #BlackLivesMatte...|The police shooti...|   News|    0|\n",
            "| #BringBackObama ...|The six months si...|   News|    0|\n",
            "+--------------------+--------------------+-------+-----+\n",
            "only showing top 5 rows\n",
            "\n"
          ]
        }
      ],
      "source": [
        "train.show(5)"
      ]
    },
    {
      "cell_type": "code",
      "execution_count": 25,
      "metadata": {
        "id": "tKt7JmnUq5Ny"
      },
      "outputs": [
        {
          "name": "stdout",
          "output_type": "stream",
          "text": [
            "+--------------------+--------------------+-------+-----+\n",
            "|               title|                text|subject|label|\n",
            "+--------------------+--------------------+-------+-----+\n",
            "|\\r\\r\\r\\r\\r\\r\\r\\nW...|Massachusetts Rep...|   News|    0|\n",
            "| #FreeChrisChrist...|Last Friday, New ...|   News|    0|\n",
            "| #NeverTrump Cons...|Donald Trump is b...|   News|    0|\n",
            "| #THERESISTANCE I...|Over the weekend,...|   News|    0|\n",
            "| 10 Reasons Donal...|There are no two ...|   News|    0|\n",
            "+--------------------+--------------------+-------+-----+\n",
            "only showing top 5 rows\n",
            "\n"
          ]
        }
      ],
      "source": [
        "test.show(5)"
      ]
    },
    {
      "cell_type": "code",
      "execution_count": 27,
      "metadata": {
        "id": "a_roaT0wYLh_"
      },
      "outputs": [],
      "source": [
        "\n",
        "from pyspark.ml import Pipeline\n",
        "from pyspark.ml.classification import RandomForestClassifier\n",
        "from pyspark.ml.tuning import ParamGridBuilder, CrossValidator\n",
        "from pyspark.ml.evaluation import BinaryClassificationEvaluator\n",
        "\n",
        "rf = RandomForestClassifier(featuresCol='features', labelCol='label')\n",
        "rf_pipe= Pipeline(stages=[\n",
        "                title_tokenizer,\n",
        "                title_sw_remover,\n",
        "                title_count_vectorizer,\n",
        "                title_tfidf,\n",
        "                text_tokenizer,\n",
        "                text_sw_remover,\n",
        "                text_count_vectorizer,\n",
        "                text_tfidf,\n",
        "                subject_str_indexer,\n",
        "                vec_assembler,\n",
        "                rf])\n",
        "\n",
        "\n",
        "\"\"\"\n",
        "paramGrid = (ParamGridBuilder()\n",
        "             .addGrid(rf.numTrees, [50, 100])\n",
        "             .addGrid(rf.maxDepth, [3, 5])\n",
        "             .build())\n",
        "\n",
        "\n",
        "evaluator = BinaryClassificationEvaluator()\n",
        "\n",
        "cv = CrossValidator(estimator=rf_pipe,\n",
        "                    evaluator=evaluator,\n",
        "                    numFolds=5\n",
        "                    estimatorParamMaps=paramGrid)\n",
        "\n",
        "cvModel = cv.fit(train)\n",
        "\"\"\"\n",
        "\n",
        "rf_model= rf_pipe.fit(train)"
      ]
    },
    {
      "cell_type": "markdown",
      "metadata": {
        "id": "1wh39e1qsZWx"
      },
      "source": [
        "train"
      ]
    },
    {
      "cell_type": "code",
      "execution_count": 51,
      "metadata": {
        "id": "rhJdiLwCsFGF"
      },
      "outputs": [],
      "source": [
        "# modeli değerlendirmek için kullanılacak fonksiyon\n",
        "from pyspark.ml.evaluation import  MulticlassClassificationEvaluator, BinaryClassificationEvaluator\n",
        "\n",
        "accuracy= MulticlassClassificationEvaluator(predictionCol= 'prediction', metricName= 'accuracy')\n",
        "f1= MulticlassClassificationEvaluator(predictionCol= 'prediction', metricName= 'f1')\n",
        "areaUnderROC= BinaryClassificationEvaluator(metricName= 'areaUnderROC')\n",
        "\n",
        "def classification_evaluator(data_result):\n",
        "    #data_result.crosstab(col1='predictions',col2=\"label\").show()\n",
        "    data_result.groupBy('prediction', 'label').count().show(5)\n",
        "    print('accuracy:', accuracy.evaluate(data_result))\n",
        "    print('f1:', f1.evaluate(data_result))\n",
        "    print('areaUnderROC (AUC):', areaUnderROC.evaluate(data_result))"
      ]
    },
    {
      "cell_type": "code",
      "execution_count": 48,
      "metadata": {
        "id": "mufAr8JdsJUT"
      },
      "outputs": [],
      "source": [
        "# train setini tahmin et\n",
        "rf_train_result= rf_model.transform(train)"
      ]
    },
    {
      "cell_type": "code",
      "execution_count": 52,
      "metadata": {
        "id": "eEYlQKUosMSz"
      },
      "outputs": [
        {
          "name": "stdout",
          "output_type": "stream",
          "text": [
            "+----------+-----+-----+\n",
            "|prediction|label|count|\n",
            "+----------+-----+-----+\n",
            "|       1.0|    0|  327|\n",
            "|       0.0|    0|18489|\n",
            "|       0.0|    1| 1563|\n",
            "|       1.0|    1|15571|\n",
            "+----------+-----+-----+\n",
            "\n",
            "accuracy: 0.9474269819193324\n",
            "f1: 0.9472792958255327\n",
            "areaUnderROC (AUC): 0.9937758438958345\n"
          ]
        }
      ],
      "source": [
        "classification_evaluator(rf_train_result)"
      ]
    },
    {
      "cell_type": "markdown",
      "metadata": {
        "id": "0U48eHlrsVeh"
      },
      "source": [
        "test"
      ]
    },
    {
      "cell_type": "code",
      "execution_count": 53,
      "metadata": {
        "id": "Wz2A5Wk3sMP8"
      },
      "outputs": [],
      "source": [
        "# test setini tahmin et\n",
        "rf_test_result= rf_model.transform(test)"
      ]
    },
    {
      "cell_type": "code",
      "execution_count": 54,
      "metadata": {
        "id": "Qrx29AjXse0m"
      },
      "outputs": [
        {
          "name": "stdout",
          "output_type": "stream",
          "text": [
            "+----------+-----+-----+\n",
            "|prediction|label|count|\n",
            "+----------+-----+-----+\n",
            "|       1.0|    0|   83|\n",
            "|       0.0|    0| 4582|\n",
            "|       0.0|    1|  409|\n",
            "|       1.0|    1| 3874|\n",
            "+----------+-----+-----+\n",
            "\n",
            "accuracy: 0.9450156459544032\n",
            "f1: 0.9448561441809127\n",
            "areaUnderROC (AUC): 0.993195987326455\n"
          ]
        }
      ],
      "source": [
        "classification_evaluator(rf_test_result)"
      ]
    }
  ],
  "metadata": {
    "colab": {
      "provenance": []
    },
    "kernelspec": {
      "display_name": "Python 3",
      "language": "python",
      "name": "python3"
    },
    "language_info": {
      "codemirror_mode": {
        "name": "ipython",
        "version": 3
      },
      "file_extension": ".py",
      "mimetype": "text/x-python",
      "name": "python",
      "nbconvert_exporter": "python",
      "pygments_lexer": "ipython3",
      "version": "3.10.0"
    }
  },
  "nbformat": 4,
  "nbformat_minor": 0
}
